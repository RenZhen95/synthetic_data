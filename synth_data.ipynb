{
 "cells": [
  {
   "cell_type": "code",
   "execution_count": 1,
   "metadata": {
    "executionInfo": {
     "elapsed": 1,
     "status": "ok",
     "timestamp": 1665584734108,
     "user": {
      "displayName": "F K",
      "userId": "13365684069309883962"
     },
     "user_tz": -240
    },
    "id": "NOS8JMYtEDub"
   },
   "outputs": [],
   "source": [
    "import numpy as np\n",
    "from numpy import logical_or as lor\n",
    "from numpy import logical_and as land\n",
    "from numpy import logical_not as lnot\n",
    "from numpy import logical_xor as lxor\n",
    "import random\n",
    "import matplotlib.pyplot as plt\n",
    "import random\n",
    "\n",
    "from sklearn.ensemble import ExtraTreesClassifier, ExtraTreesRegressor\n",
    "from sklearn.svm import LinearSVC\n",
    "from sklearn.feature_selection import SelectFromModel\n",
    "from sklearn.linear_model import Lasso\n",
    "from sklearn.feature_selection import SelectKBest\n",
    "from sklearn.feature_selection import chi2, f_regression\n",
    "import matplotlib.pyplot as plt\n",
    "from sklearn.feature_selection import RFE\n",
    "from sklearn.svm import SVC, SVR"
   ]
  },
  {
   "cell_type": "markdown",
   "metadata": {},
   "source": [
    "Ideally, we want the selection algorithms to identify only the relevant variables or the corresponding redundant variables without duplications. However, given the correlation between the relevant and redundant variables, it is not surprising that in most cases the selection algorithms identify both sets of features which results in the duplication of features. A robust selection algorithm should also discard irrelevant variables that are randomly correlated with the target variable.\n",
    "\n",
    "We observe that the selection algorithms are highly capable of identifying the relevant variables. However, the algorithms also often select the redundant and correlated (irrelevant) variables. \n",
    "Therefore, we propose a two-stage selection approach. In the first stage, the top features are selected which will likely inlcude the majority of the relevant variables as well as several redundant and irrelevant variables. In the second stage, an exhaustive search over the set of all possible combinations of the selected variables is conducted to identify the optimal feature subset.\n",
    "The exhaustive search is the gold standard of feature selection but it is impractacial due to the large number of features in the original set. Therefore, by reducing the number of features in the first stage of the proposed selection approach we are able to perform exhaustive search in practice. Our experiments show that the selection agorithms often rank the relevant features high enough to pass the first stage of the selection process. Thus, the proposed approach allows us to reduce the search space of the feature combinations without the loss of the relevant features."
   ]
  },
  {
   "cell_type": "markdown",
   "metadata": {
    "id": "GP7yqnjXgBuv"
   },
   "source": [
    "### ORAND"
   ]
  },
  {
   "cell_type": "code",
   "execution_count": 2,
   "metadata": {
    "executionInfo": {
     "elapsed": 399,
     "status": "ok",
     "timestamp": 1665586916184,
     "user": {
      "displayName": "F K",
      "userId": "13365684069309883962"
     },
     "user_tz": -240
    },
    "id": "xZ2khlf5I4KJ"
   },
   "outputs": [],
   "source": [
    "def gen_3():\n",
    "  rlvnt = []\n",
    "  for i in [0,1]:\n",
    "    for j in [0,1]:\n",
    "      for k in [0,1]:\n",
    "        rlvnt.append([i,j,k])\n",
    "  return rlvnt\n",
    "\n",
    "def make_cor(y):\n",
    "  cor_vars = []\n",
    "  for i in range(2):\n",
    "    cor_i = y.copy()\n",
    "    ind = random.sample(range(len(y)), 15)\n",
    "    cor_i[ind] = lnot(cor_i[ind])\n",
    "    cor_vars.append(cor_i)\n",
    "  return np.array(cor_vars).transpose()\n",
    "\n",
    "def orand(n_obs=50,n_I=92, seed=0):\n",
    "  np.random.seed(seed)\n",
    "  red = lnot(gen_3()).astype(int)\n",
    "  rr = np.hstack([gen_3(), red])\n",
    "  q=n_obs//8\n",
    "  r=n_obs%8\n",
    "  rr_exp = np.vstack([np.repeat(rr,q, axis=0),rr[:r,:]])\n",
    "  irlvnt = np.random.randint(2, size=[n_obs,n_I], )\n",
    "  y = land(rr_exp[:,0], \n",
    "           lor(rr_exp[:,1], rr_exp[:,2])).astype(int)\n",
    "  cor = make_cor(y)\n",
    "  features = np.hstack([rr_exp,cor, irlvnt])\n",
    "  return features, y\n",
    "\n",
    "X, y = orand(seed=1)"
   ]
  },
  {
   "cell_type": "markdown",
   "metadata": {
    "id": "-2f7NP7PgBu0"
   },
   "source": [
    "### ANDOR"
   ]
  },
  {
   "cell_type": "code",
   "execution_count": 3,
   "metadata": {
    "executionInfo": {
     "elapsed": 964,
     "status": "ok",
     "timestamp": 1665584898323,
     "user": {
      "displayName": "F K",
      "userId": "13365684069309883962"
     },
     "user_tz": -240
    },
    "id": "A6HfxRNaYqs1"
   },
   "outputs": [],
   "source": [
    "def gen_4():\n",
    "  rlvnt_0 = gen_3()\n",
    "  for seq in rlvnt_0:\n",
    "    seq.append(0)\n",
    "\n",
    "  rlvnt_1 = gen_3()\n",
    "  for seq in rlvnt_1:\n",
    "    seq.append(1)\n",
    "\n",
    "  return rlvnt_0 + rlvnt_1\n",
    "\n",
    "\n",
    "def andor(n_obs=50,n_I=90, seed=0):\n",
    "  np.random.seed(seed)\n",
    "  red = lnot(gen_4()).astype(int)\n",
    "  rr = np.hstack([gen_4(), red])\n",
    "  q=n_obs//16\n",
    "  r=n_obs%16\n",
    "  rr_exp = np.vstack([np.repeat(rr,q, axis=0),rr[:r,:]])\n",
    "  irlvnt = np.random.randint(2, size=[n_obs,n_I])\n",
    "  y = lor(land(rr_exp[:,0], rr_exp[:,1]), \n",
    "          land(rr_exp[:,2], rr_exp[:,3])).astype(int)\n",
    "  cor = make_cor(y)\n",
    "  features = np.hstack([rr_exp, cor, irlvnt])\n",
    "  return features, y\n",
    "\n",
    "X, y = andor()"
   ]
  },
  {
   "cell_type": "markdown",
   "metadata": {
    "id": "YDq6k8xWgBu1"
   },
   "source": [
    "### ADDER"
   ]
  },
  {
   "cell_type": "code",
   "execution_count": 4,
   "metadata": {
    "executionInfo": {
     "elapsed": 632,
     "status": "ok",
     "timestamp": 1665588058085,
     "user": {
      "displayName": "F K",
      "userId": "13365684069309883962"
     },
     "user_tz": -240
    },
    "id": "t5xiWVOPxwbl"
   },
   "outputs": [],
   "source": [
    "def make_cor_adv(y, n_ind=15, n_class=4):\n",
    "  cor_vars = []\n",
    "  for i in range(2):\n",
    "    cor_i = y.copy()\n",
    "    ind = random.sample(range(len(y)), n_ind)\n",
    "    cor_i[ind] = (cor_i[ind]+1)%n_class\n",
    "    cor_vars.append(cor_i)\n",
    "  return np.array(cor_vars).transpose()"
   ]
  },
  {
   "cell_type": "code",
   "execution_count": 5,
   "metadata": {
    "executionInfo": {
     "elapsed": 1,
     "status": "ok",
     "timestamp": 1665588574666,
     "user": {
      "displayName": "F K",
      "userId": "13365684069309883962"
     },
     "user_tz": -240
    },
    "id": "dBq6hQCwGRS9"
   },
   "outputs": [],
   "source": [
    "def adder(n_obs=50,n_I=92, seed=0):\n",
    "  np.random.seed(seed)\n",
    "  red = lnot(gen_3()).astype(int)\n",
    "  rr = np.hstack([gen_3(), red])\n",
    "  q=n_obs//8\n",
    "  r=n_obs%8\n",
    "  rr_exp = np.vstack([np.repeat(rr,q, axis=0),rr[:r,:]])\n",
    "  irlvnt = np.random.randint(2, size=[n_obs,n_I])\n",
    "  y1 = lxor(lxor(rr_exp[:,0], rr_exp[:,1]), \n",
    "            rr_exp[:,2]).astype(int)\n",
    "  y2 = lor(land(rr_exp[:,0], rr_exp[:,1]), \n",
    "           land(rr_exp[:,2], lxor(rr_exp[:,0], rr_exp[:,1]))).astype(int)\n",
    "  y = [y1[j] + 2*y2[j] for j in range(len(y1))]\n",
    "  cor = make_cor_adv(np.array(y))\n",
    "  features = np.hstack([rr_exp, cor, irlvnt])\n",
    "  return features, y\n",
    "\n",
    "X, y = adder(n_obs=50,n_I=90)"
   ]
  },
  {
   "cell_type": "markdown",
   "metadata": {
    "id": "GdKx2u_DgBu3"
   },
   "source": [
    "### LED"
   ]
  },
  {
   "cell_type": "code",
   "execution_count": 6,
   "metadata": {
    "id": "iVGNEiD4gBu3"
   },
   "outputs": [],
   "source": [
    "import pandas as pd\n",
    "df = pd.read_csv('16_segment_truth_table2.csv')\n",
    "df = df.fillna(0)\n",
    "df.index = df.iloc[:,0].values\n",
    "df.drop(columns='char', inplace=True)\n",
    "df = df.astype(int)\n",
    "\n",
    "def led(df, n_obs=180,n_I=66, seed=0):\n",
    "    np.random.seed(seed)\n",
    "    rlvnt = df.values\n",
    "    red = np.logical_not(rlvnt)\n",
    "    rr = np.hstack([rlvnt, red])\n",
    "    d = rlvnt.shape[0]\n",
    "    q=n_obs//d\n",
    "    r=n_obs%d\n",
    "    rr_exp = np.vstack([np.repeat(rr, q, axis=0), rr[:r,:]])\n",
    "    irlvnt = np.random.randint(2, size=[n_obs,n_I])\n",
    "    y = np.array(range(36))\n",
    "    y = np.hstack([np.repeat(y, q), y[:r]])\n",
    "    cor = make_cor_adv(y, n_ind=54, n_class=36)\n",
    "    features = np.hstack([rr_exp, cor, irlvnt])\n",
    "    return features, y\n",
    "    \n",
    "    \n",
    "X, y = led(n_obs=180,n_I=90, df=df)"
   ]
  },
  {
   "cell_type": "markdown",
   "metadata": {
    "id": "8nz8Y3afgBu4"
   },
   "source": [
    "### PRC"
   ]
  },
  {
   "cell_type": "code",
   "execution_count": 7,
   "metadata": {
    "id": "He8Lp_AcgBu4"
   },
   "outputs": [],
   "source": [
    "def r_total(r_array):\n",
    "  r_sum = 0\n",
    "  for k in range(5):\n",
    "    rk_sum = 1\n",
    "    for j in range(5):\n",
    "      if j!=k:\n",
    "        rk_sum = rk_sum*r_array[j]\n",
    "    r_sum = r_sum + rk_sum\n",
    "  return np.product(r_array)/r_sum\n",
    "\n",
    "\n",
    "def prc_old(n_obs,n_I, seed):\n",
    "  np.random.seed(seed)\n",
    "  rlvnt = np.random.randn(n_obs,5)\n",
    "  for k in range(5):\n",
    "    rlvnt[:,k] = 3 + rlvnt[:,k]/(k+1)\n",
    "  red = 2*rlvnt+3\n",
    "  rr = np.hstack([rlvnt, red])\n",
    "\n",
    "  irlvnt = np.random.randn(n_obs,n_I//2)\n",
    "  for k in range(5):\n",
    "    irlvnt[:,9*k:9*(k+1)] = 3 + irlvnt[:,9*k:9*(k+1)]/(k+1)\n",
    "  irlvnt = np.hstack([irlvnt, np.random.rand(n_obs,n_I//2)])\n",
    "  \n",
    "  features = np.hstack([rr, irlvnt])\n",
    "  y = [r_total(features[j,:5]) for j in range(features.shape[0])]\n",
    "  return features, y\n",
    "\n",
    "\n",
    "def prc(n_obs,n_I, seed):\n",
    "  np.random.seed(seed)\n",
    "  rlvnt = 3 + np.random.randn(n_obs,5)/3\n",
    "  red = 2*rlvnt+3\n",
    "  rr = np.hstack([rlvnt, red])\n",
    "\n",
    "  irlvnt = 3 + np.random.randn(n_obs,n_I//2)/3\n",
    "  irlvnt = np.hstack([irlvnt, 3+np.random.rand(n_obs,n_I//2)])\n",
    "  \n",
    "  features = np.hstack([rr, irlvnt])\n",
    "  y = [r_total(features[j,:5]) for j in range(features.shape[0])]\n",
    "  return features, y\n",
    "\n",
    "X, y = prc(50, 90, 0)"
   ]
  },
  {
   "cell_type": "markdown",
   "metadata": {
    "id": "TwY8OGEEuw7i"
   },
   "source": [
    "## ANDOR"
   ]
  },
  {
   "cell_type": "markdown",
   "metadata": {
    "id": "qzhgpKPOu8F1"
   },
   "source": [
    "## 1.13.2. Univariate feature selection¶\n",
    "\n",
    "Univariate feature selection works by selecting the best features based on univariate statistical tests. It can be seen as a preprocessing step to an estimator. Scikit-learn exposes feature selection routines as objects that implement the transform method:\n",
    "\n",
    "* SelectKBest removes all but the  highest scoring features\n",
    "\n",
    "* SelectPercentile removes all but a user-specified highest scoring percentage of features using common univariate statistical tests for each feature: false positive rate "
   ]
  },
  {
   "cell_type": "code",
   "execution_count": 9,
   "metadata": {
    "colab": {
     "base_uri": "https://localhost:8080/",
     "height": 350
    },
    "executionInfo": {
     "elapsed": 594,
     "status": "ok",
     "timestamp": 1665587233744,
     "user": {
      "displayName": "F K",
      "userId": "13365684069309883962"
     },
     "user_tz": -240
    },
    "id": "1eL2zQyVtRrI",
    "outputId": "ba818808-3b77-4391-fc5b-21a814e4a8cf"
   },
   "outputs": [
    {
     "data": {
      "image/png": "[encoded data removed]",
      "text/plain": [
       "<Figure size 1440x360 with 1 Axes>"
      ]
     },
     "metadata": {
      "needs_background": "light"
     },
     "output_type": "display_data"
    }
   ],
   "source": [
    "best_scores = []\n",
    "for i in range(10):\n",
    "    X, y = andor(n_obs=20,seed=i)\n",
    "    sel_kbest = SelectKBest(chi2, k=1)\n",
    "    sel_kbest = sel_kbest.fit(X, y)\n",
    "    best_scores.append(sel_kbest.scores_)\n",
    "\n",
    "\n",
    "plt.figure(figsize=(20,5))\n",
    "mean_scores = np.array(best_scores).mean(axis=0)\n",
    "sd_scores = np.array(best_scores).std(axis=0)\n",
    "plt.bar(range(1, X.shape[1]+1),mean_scores, yerr=sd_scores, ecolor='orangered', \n",
    "        color=4*[\"blue\"]+4*[\"royalblue\"]+2*[\"forestgreen\"]+90*[\"slategray\"],\n",
    "        error_kw=dict(lw=1))\n",
    "plt.xticks([1, 10, 20, 30, 40, 50, 60, 70, 80, 90, 100], size=14)\n",
    "plt.yticks(size=14)\n",
    "plt.xlabel('features', size=15)\n",
    "plt.ylabel(r'$\\chi^2$', size=15)\n",
    "#plt.title('Univariate')\n",
    "\n",
    "colors = {'rlvnt':'blue', 'rdnt':'royalblue', 'corr':'forestgreen', 'irrlvnt':'slategray'}         \n",
    "labels = list(colors.keys())\n",
    "handles = [plt.Rectangle((0,0),1,1, color=colors[label]) for label in labels]\n",
    "plt.legend(handles, labels)\n",
    "\n",
    "plt.savefig('uni_20.pdf', bbox_inches='tight')\n",
    "plt.show()"
   ]
  },
  {
   "cell_type": "markdown",
   "metadata": {
    "id": "U3-6X0qfxc5m"
   },
   "source": [
    "## 1.13.3. Recursive feature elimination¶\n",
    "Given an external estimator that assigns weights to features (e.g., the coefficients of a linear model), the goal of recursive feature elimination (RFE) is to select features by recursively considering smaller and smaller sets of features. First, the estimator is trained on the initial set of features and the importance of each feature is obtained either through any specific attribute (such as coef_, feature_importances_) or callable. Then, the least important features are pruned from current set of features. That procedure is recursively repeated on the pruned set until the desired number of features to select is eventually reached.\n",
    "\n",
    "RFECV performs RFE in a cross-validation loop to find the optimal number of features."
   ]
  },
  {
   "cell_type": "code",
   "execution_count": 79,
   "metadata": {
    "colab": {
     "base_uri": "https://localhost:8080/"
    },
    "executionInfo": {
     "elapsed": 1206,
     "status": "ok",
     "timestamp": 1665587185837,
     "user": {
      "displayName": "F K",
      "userId": "13365684069309883962"
     },
     "user_tz": -240
    },
    "id": "PSstWB3btS6F",
    "outputId": "3a91fbc7-ae2b-470b-cd96-7400274a3d13"
   },
   "outputs": [
    {
     "data": {
      "text/plain": [
       "array([[15, 14,  4, 13,  3,  2, 18,  1],\n",
       "       [12,  5, 23, 10,  9,  8, 11,  3],\n",
       "       [12, 16,  5,  6,  3,  1,  2,  9],\n",
       "       [22, 13,  5,  3,  6, 17, 11, 14],\n",
       "       [ 2,  7,  9,  6,  8,  4,  3,  5],\n",
       "       [13,  4,  7,  6,  5, 14,  2,  1],\n",
       "       [14,  5,  4, 15,  3, 11, 12,  2],\n",
       "       [11, 12,  9,  6,  5,  2,  4,  3],\n",
       "       [ 6, 13, 12,  4, 14,  7, 10,  8],\n",
       "       [ 7, 11, 13, 14,  3,  8, 10,  6]])"
      ]
     },
     "execution_count": 79,
     "metadata": {},
     "output_type": "execute_result"
    }
   ],
   "source": [
    "np.random.seed(123)\n",
    "random.seed(123)\n",
    "\n",
    "rankings = []\n",
    "for i in range(10):\n",
    "    X, y = andor(n_obs=50,seed=i)\n",
    "    estimator = SVC(kernel=\"linear\", random_state=123)\n",
    "    selector = RFE(estimator, n_features_to_select=1, step=1)\n",
    "    selector = selector.fit(X, y)\n",
    "    rankings.append(selector.ranking_)\n",
    "    \n",
    "rankings = np.array(rankings)[:,:8]\n",
    "rankings"
   ]
  },
  {
   "cell_type": "code",
   "execution_count": 80,
   "metadata": {},
   "outputs": [
    {
     "data": {
      "text/plain": [
       "array([12. , 11.5,  8. ,  6. ,  5. ,  7.5, 10. ,  4. ])"
      ]
     },
     "execution_count": 80,
     "metadata": {},
     "output_type": "execute_result"
    }
   ],
   "source": [
    "np.median(rankings, axis=0)"
   ]
  },
  {
   "cell_type": "code",
   "execution_count": 69,
   "metadata": {},
   "outputs": [
    {
     "name": "stdout",
     "output_type": "stream",
     "text": [
      "\\begin{tabular}{lrrrrrrrr}\n",
      " & 0 & 1 & 2 & 3 & 4 & 5 & 6 & 7 \\\\\n",
      "0 & 5 & 8 & 20 & 6 & 34 & 13 & 39 & 7 \\\\\n",
      "1 & 29 & 17 & 8 & 5 & 13 & 9 & 16 & 14 \\\\\n",
      "2 & 12 & 7 & 50 & 17 & 4 & 22 & 53 & 8 \\\\\n",
      "3 & 5 & 33 & 39 & 12 & 14 & 29 & 46 & 3 \\\\\n",
      "4 & 16 & 35 & 32 & 9 & 22 & 13 & 26 & 11 \\\\\n",
      "5 & 36 & 11 & 17 & 5 & 28 & 4 & 21 & 6 \\\\\n",
      "6 & 18 & 22 & 37 & 11 & 10 & 35 & 33 & 5 \\\\\n",
      "7 & 14 & 6 & 17 & 12 & 18 & 28 & 4 & 10 \\\\\n",
      "8 & 13 & 43 & 7 & 42 & 9 & 37 & 23 & 30 \\\\\n",
      "9 & 23 & 19 & 27 & 11 & 6 & 20 & 31 & 3 \\\\\n",
      "\\end{tabular}\n",
      "\n"
     ]
    }
   ],
   "source": [
    "import pandas as pd\n",
    "print(pd.DataFrame(rankings).style.to_latex())"
   ]
  },
  {
   "cell_type": "markdown",
   "metadata": {
    "id": "jv8Yn0z2gBu7"
   },
   "source": [
    "## 1.13.4. Feature selection using SelectFromModel\n",
    "\n",
    "SelectFromModel is a meta-transformer that can be used alongside any estimator that assigns importance to each feature through a specific attribute (such as coef_, feature_importances_) or via an importance_getter callable after fitting. The features are considered unimportant and removed if the corresponding importance of the feature values are below the provided threshold parameter. Apart from specifying the threshold numerically, there are built-in heuristics for finding a threshold using a string argument. Available heuristics are “mean”, “median” and float multiples of these like “0.1*mean”. In combination with the threshold criteria, one can use the max_features parameter to set a limit on the number of features to select."
   ]
  },
  {
   "cell_type": "markdown",
   "metadata": {
    "id": "RVyhVGpqgBu7"
   },
   "source": [
    "### 1.13.4.1. L1-based feature selection\n",
    "Linear models penalized with the L1 norm have sparse solutions: many of their estimated coefficients are zero. When the goal is to reduce the dimensionality of the data to use with another classifier, they can be used along with SelectFromModel to select the non-zero coefficients. In particular, sparse estimators useful for this purpose are the Lasso for regression, and of LogisticRegression and LinearSVC for classification:"
   ]
  },
  {
   "cell_type": "code",
   "execution_count": 11,
   "metadata": {
    "colab": {
     "base_uri": "https://localhost:8080/",
     "height": 385
    },
    "executionInfo": {
     "elapsed": 522,
     "status": "ok",
     "timestamp": 1665587267006,
     "user": {
      "displayName": "F K",
      "userId": "13365684069309883962"
     },
     "user_tz": -240
    },
    "id": "I5z7PxcwtUhM",
    "outputId": "40b08a5e-49ce-45ce-d919-35bfa3eff6d8"
   },
   "outputs": [
    {
     "data": {
      "image/png": "[encoded data removed]",
      "text/plain": [
       "<Figure size 1440x360 with 1 Axes>"
      ]
     },
     "metadata": {
      "needs_background": "light"
     },
     "output_type": "display_data"
    }
   ],
   "source": [
    "np.random.seed(123)\n",
    "random.seed(123)\n",
    "\n",
    "rankings = []\n",
    "for i in range(10):\n",
    "    X, y = andor(n_obs=20, seed=i)\n",
    "    lsvc = LinearSVC(C=0.5, penalty=\"l1\", dual=False, random_state=123).fit(X, y)\n",
    "    model = SelectFromModel(lsvc, prefit=True)\n",
    "    rankings.append(model.get_support())\n",
    "\n",
    "plt.figure(figsize=(20,5))\n",
    "plt.bar(range(1, X.shape[1]+1),sum(rankings), \n",
    "        color=4*[\"blue\"]+4*[\"royalblue\"]+2*[\"forestgreen\"]+90*[\"slategray\"],\n",
    "        error_kw=dict(lw=1))\n",
    "plt.xticks([1, 10, 20, 30, 40, 50, 60, 70, 80, 90, 100], size=14)\n",
    "plt.yticks(size=14)\n",
    "plt.xlabel('features', size=15)\n",
    "plt.ylabel('support', size=15)\n",
    "#plt.title('L1')\n",
    "\n",
    "colors = {'rlvnt':'blue', 'rdnt':'royalblue', 'corr':'forestgreen', 'irrlvnt':'slategray'}         \n",
    "labels = list(colors.keys())\n",
    "handles = [plt.Rectangle((0,0),1,1, color=colors[label]) for label in labels]\n",
    "plt.legend(handles, labels)\n",
    "\n",
    "plt.savefig('lsvc_20.pdf', bbox_inches='tight')\n",
    "plt.show()"
   ]
  },
  {
   "cell_type": "markdown",
   "metadata": {
    "id": "a3sODcTfgBu8"
   },
   "source": [
    "### 1.13.4.2. Tree-based feature selection\n",
    "Tree-based estimators (see the sklearn.tree module and forest of trees in the sklearn.ensemble module) can be used to compute impurity-based feature importances, which in turn can be used to discard irrelevant features (when coupled with the SelectFromModel meta-transformer):"
   ]
  },
  {
   "cell_type": "code",
   "execution_count": 13,
   "metadata": {
    "colab": {
     "base_uri": "https://localhost:8080/",
     "height": 350
    },
    "executionInfo": {
     "elapsed": 1518,
     "status": "ok",
     "timestamp": 1665587286886,
     "user": {
      "displayName": "F K",
      "userId": "13365684069309883962"
     },
     "user_tz": -240
    },
    "id": "t7g5fw48gBu8",
    "outputId": "1db44804-4c69-4805-eef7-c4f3b2f71bcd"
   },
   "outputs": [
    {
     "data": {
      "image/png": "[encoded data removed]",
      "text/plain": [
       "<Figure size 1440x360 with 1 Axes>"
      ]
     },
     "metadata": {
      "needs_background": "light"
     },
     "output_type": "display_data"
    }
   ],
   "source": [
    "np.random.seed(123)\n",
    "random.seed(123)\n",
    "\n",
    "best_scores = []\n",
    "for i in range(10):\n",
    "    X, y = andor(n_obs=50,seed=i)\n",
    "    clf = ExtraTreesClassifier(n_estimators=50, random_state=123)\n",
    "    clf = clf.fit(X, y)\n",
    "    best_scores.append(clf.feature_importances_)\n",
    "\n",
    "plt.figure(figsize=(20,5))\n",
    "mean_scores = np.array(best_scores).mean(axis=0)\n",
    "sd_scores = np.array(best_scores).std(axis=0)\n",
    "plt.bar(range(1, X.shape[1]+1),mean_scores, yerr=sd_scores, ecolor='orangered', \n",
    "        color=4*[\"blue\"]+4*[\"royalblue\"]+2*[\"forestgreen\"]+90*[\"slategray\"],\n",
    "        error_kw=dict(lw=1))\n",
    "\n",
    "plt.xticks([1, 10, 20, 30, 40, 50, 60, 70, 80, 90, 100])\n",
    "plt.yticks(size=14)\n",
    "plt.xlabel('features', size=15)\n",
    "plt.ylabel('importance', size=15)\n",
    "#plt.title('Tree')\n",
    "\n",
    "colors = {'rlvnt':'blue', 'rdnt':'royalblue', 'corr':'forestgreen', 'irrlvnt':'slategray'}         \n",
    "labels = list(colors.keys())\n",
    "handles = [plt.Rectangle((0,0),1,1, color=colors[label]) for label in labels]\n",
    "plt.legend(handles, labels)\n",
    "\n",
    "plt.savefig('tree_50.pdf', bbox_inches='tight')\n",
    "plt.show()"
   ]
  },
  {
   "cell_type": "markdown",
   "metadata": {
    "id": "FKi2gnqqvR8I"
   },
   "source": [
    "## ORAND"
   ]
  },
  {
   "cell_type": "code",
   "execution_count": 42,
   "metadata": {
    "colab": {
     "base_uri": "https://localhost:8080/",
     "height": 350
    },
    "executionInfo": {
     "elapsed": 1092,
     "status": "ok",
     "timestamp": 1665587348728,
     "user": {
      "displayName": "F K",
      "userId": "13365684069309883962"
     },
     "user_tz": -240
    },
    "id": "EVJaZBnVgBu8",
    "outputId": "bc238236-4822-4027-8c38-29af2a24b539"
   },
   "outputs": [
    {
     "data": {
      "image/png": "[encoded data removed]",
      "text/plain": [
       "<Figure size 1080x360 with 1 Axes>"
      ]
     },
     "metadata": {
      "needs_background": "light"
     },
     "output_type": "display_data"
    }
   ],
   "source": [
    "best_scores = []\n",
    "for i in range(10):\n",
    "    X, y = orand(seed=i)\n",
    "    sel_kbest = SelectKBest(chi2, k=1)\n",
    "    sel_kbest = sel_kbest.fit(X, y)\n",
    "    best_scores.append(sel_kbest.scores_)\n",
    "\n",
    "\n",
    "\n",
    "plt.figure(figsize=(15,5))\n",
    "mean_scores = np.array(best_scores).mean(axis=0)\n",
    "sd_scores = np.array(best_scores).std(axis=0)\n",
    "plt.bar(range(1, X.shape[1]+1),mean_scores, yerr=sd_scores, ecolor='orangered', \n",
    "        color=6*[\"royalblue\"]+2*[\"forestgreen\"]+92*[\"slategray\"])\n",
    "#plt.yticks([0, 5, 10, 15])\n",
    "plt.xticks([1, 10, 20, 30, 40, 50, 60, 70, 80, 90, 100])\n",
    "plt.xlabel('features')\n",
    "plt.ylabel(r'$\\chi^2$')\n",
    "plt.title('Univariate')\n",
    "plt.show()"
   ]
  },
  {
   "cell_type": "code",
   "execution_count": 44,
   "metadata": {
    "colab": {
     "base_uri": "https://localhost:8080/"
    },
    "executionInfo": {
     "elapsed": 1284,
     "status": "ok",
     "timestamp": 1665587378028,
     "user": {
      "displayName": "F K",
      "userId": "13365684069309883962"
     },
     "user_tz": -240
    },
    "id": "xrONjqArvfrG",
    "outputId": "69df70ab-6b55-4f60-ec27-7145559859d9"
   },
   "outputs": [
    {
     "data": {
      "text/plain": [
       "array([[ 2, 18,  9,  1, 16,  3],\n",
       "       [ 2,  8,  9,  1,  4, 13],\n",
       "       [ 2,  6, 26,  1, 10,  4],\n",
       "       [ 2,  4,  3,  1, 11,  8],\n",
       "       [ 2, 23, 11,  1,  4,  3],\n",
       "       [ 2,  8, 12,  1,  4,  3],\n",
       "       [ 2,  5,  7,  1,  8,  4],\n",
       "       [ 2, 15,  9,  1,  4,  3],\n",
       "       [ 2,  6,  5,  1,  4,  3],\n",
       "       [ 2, 10, 19,  1,  3,  9]])"
      ]
     },
     "execution_count": 44,
     "metadata": {},
     "output_type": "execute_result"
    }
   ],
   "source": [
    "rankings = []\n",
    "for i in range(10):\n",
    "    X, y = orand(seed=i)\n",
    "    estimator = SVC(kernel=\"linear\")\n",
    "    selector = RFE(estimator, n_features_to_select=1, step=1)\n",
    "    selector = selector.fit(X, y)\n",
    "    rankings.append(selector.ranking_)\n",
    "    \n",
    "np.array(rankings)[:,:6]"
   ]
  },
  {
   "cell_type": "code",
   "execution_count": 46,
   "metadata": {
    "colab": {
     "base_uri": "https://localhost:8080/",
     "height": 350
    },
    "executionInfo": {
     "elapsed": 668,
     "status": "ok",
     "timestamp": 1665587417531,
     "user": {
      "displayName": "F K",
      "userId": "13365684069309883962"
     },
     "user_tz": -240
    },
    "id": "mcAikRUCvl52",
    "outputId": "b8f13762-4292-4f2f-db29-7a77efb00769"
   },
   "outputs": [
    {
     "data": {
      "image/png": "[encoded data removed]",
      "text/plain": [
       "<Figure size 1080x360 with 1 Axes>"
      ]
     },
     "metadata": {
      "needs_background": "light"
     },
     "output_type": "display_data"
    }
   ],
   "source": [
    "rankings = []\n",
    "for i in range(10):\n",
    "    X, y = orand(seed=i)\n",
    "    lsvc = LinearSVC(C=0.5, penalty=\"l1\", dual=False).fit(X, y)\n",
    "    model = SelectFromModel(lsvc, prefit=True)\n",
    "    rankings.append(model.get_support())\n",
    "\n",
    "plt.figure(figsize=(15,5))\n",
    "#plt.bar(range(1, X.shape[1]+1),sum(rankings), color=\"royalblue\")\n",
    "plt.bar(range(1, X.shape[1]+1),sum(rankings), \n",
    "        color=6*[\"royalblue\"]+2*[\"forestgreen\"]+92*[\"slategray\"])\n",
    "plt.xticks([1, 10, 20, 30, 40, 50, 60, 70, 80, 90, 100])\n",
    "plt.xlabel('features')\n",
    "plt.ylabel('support')\n",
    "plt.title('L1')\n",
    "plt.show()"
   ]
  },
  {
   "cell_type": "code",
   "execution_count": 47,
   "metadata": {
    "colab": {
     "base_uri": "https://localhost:8080/",
     "height": 350
    },
    "executionInfo": {
     "elapsed": 1787,
     "status": "ok",
     "timestamp": 1665587444260,
     "user": {
      "displayName": "F K",
      "userId": "13365684069309883962"
     },
     "user_tz": -240
    },
    "id": "O6uiPFa4vthw",
    "outputId": "0e68a77d-4d0a-4f1f-ddc4-f83c878519d8"
   },
   "outputs": [
    {
     "data": {
      "image/png": "[encoded data removed]",
      "text/plain": [
       "<Figure size 1080x360 with 1 Axes>"
      ]
     },
     "metadata": {
      "needs_background": "light"
     },
     "output_type": "display_data"
    }
   ],
   "source": [
    "best_scores = []\n",
    "for i in range(10):\n",
    "    X, y = orand(seed=i)\n",
    "    clf = ExtraTreesClassifier(n_estimators=50)\n",
    "    clf = clf.fit(X, y)\n",
    "    best_scores.append(clf.feature_importances_)\n",
    "\n",
    "plt.figure(figsize=(15,5))\n",
    "mean_scores = np.array(best_scores).mean(axis=0)\n",
    "sd_scores = np.array(best_scores).std(axis=0)\n",
    "plt.bar(range(1, X.shape[1]+1),mean_scores, yerr=sd_scores, ecolor='orangered', \n",
    "        color=6*[\"royalblue\"]+2*[\"forestgreen\"]+92*[\"slategray\"])\n",
    "\n",
    "plt.xticks([1, 10, 20, 30, 40, 50, 60, 70, 80, 90, 100])\n",
    "plt.xlabel('features')\n",
    "plt.ylabel('importance')\n",
    "plt.title('Tree')\n",
    "\n",
    "colors = {'rlvnt/rdnt':'royalblue', 'corr':'forestgreen', 'irrlvnt':'slategray'}         \n",
    "labels = list(colors.keys())\n",
    "handles = [plt.Rectangle((0,0),1,1, color=colors[label]) for label in labels]\n",
    "plt.legend(handles, labels)\n",
    "\n",
    "plt.savefig('tree_20.pdf', bbox_inches='tight')\n",
    "plt.show()"
   ]
  },
  {
   "cell_type": "markdown",
   "metadata": {
    "id": "8ynMdpQfv9XS"
   },
   "source": [
    "## ADDER"
   ]
  },
  {
   "cell_type": "code",
   "execution_count": 16,
   "metadata": {
    "colab": {
     "base_uri": "https://localhost:8080/",
     "height": 350
    },
    "executionInfo": {
     "elapsed": 849,
     "status": "ok",
     "timestamp": 1665588581845,
     "user": {
      "displayName": "F K",
      "userId": "13365684069309883962"
     },
     "user_tz": -240
    },
    "id": "gUOiMqoHv3Ab",
    "outputId": "aac16883-36d0-4875-a0f4-70fb6996099a"
   },
   "outputs": [
    {
     "data": {
      "image/png": "[encoded data removed]",
      "text/plain": [
       "<Figure size 1080x360 with 1 Axes>"
      ]
     },
     "metadata": {
      "needs_background": "light"
     },
     "output_type": "display_data"
    }
   ],
   "source": [
    "best_scores = []\n",
    "for i in range(10):\n",
    "    X, y = adder(seed=i)\n",
    "    sel_kbest = SelectKBest(chi2, k=1)\n",
    "    sel_kbest = sel_kbest.fit(X, y)\n",
    "    best_scores.append(sel_kbest.scores_)\n",
    "\n",
    "\n",
    "\n",
    "plt.figure(figsize=(15,5))\n",
    "mean_scores = np.array(best_scores).mean(axis=0)\n",
    "sd_scores = np.array(best_scores).std(axis=0)\n",
    "plt.bar(range(1, X.shape[1]+1),mean_scores, yerr=sd_scores, ecolor='orangered', \n",
    "        color=6*[\"royalblue\"]+2*[\"forestgreen\"]+92*[\"slategray\"])\n",
    "#plt.yticks([0, 5, 10, 15])\n",
    "plt.xticks([1, 10, 20, 30, 40, 50, 60, 70, 80, 90, 100])\n",
    "plt.xlabel('features')\n",
    "plt.ylabel(r'$\\chi^2$')\n",
    "plt.title('Univariate')\n",
    "plt.show()"
   ]
  },
  {
   "cell_type": "code",
   "execution_count": 19,
   "metadata": {
    "colab": {
     "base_uri": "https://localhost:8080/"
    },
    "executionInfo": {
     "elapsed": 1802,
     "status": "ok",
     "timestamp": 1665588674079,
     "user": {
      "displayName": "F K",
      "userId": "13365684069309883962"
     },
     "user_tz": -240
    },
    "id": "AKO6gtcu0Chh",
    "outputId": "e76ebfed-01f2-42a6-8ad7-bbef4fe6f768"
   },
   "outputs": [
    {
     "data": {
      "text/plain": [
       "array([[6, 5, 4, 3, 1, 2],\n",
       "       [6, 5, 4, 3, 1, 2],\n",
       "       [6, 5, 4, 3, 1, 2],\n",
       "       [6, 5, 4, 3, 1, 2],\n",
       "       [6, 5, 4, 3, 1, 2],\n",
       "       [6, 5, 4, 3, 1, 2],\n",
       "       [6, 5, 4, 3, 1, 2],\n",
       "       [6, 5, 4, 3, 1, 2],\n",
       "       [6, 5, 4, 3, 1, 2],\n",
       "       [6, 5, 4, 3, 1, 2]])"
      ]
     },
     "execution_count": 19,
     "metadata": {},
     "output_type": "execute_result"
    }
   ],
   "source": [
    "rankings = []\n",
    "for i in range(10):\n",
    "    X, y = adder(seed=i)\n",
    "    estimator = SVC(kernel=\"linear\")\n",
    "    selector = RFE(estimator, n_features_to_select=1, step=1)\n",
    "    selector = selector.fit(X, y)\n",
    "    rankings.append(selector.ranking_)\n",
    "    \n",
    "np.array(rankings)[:,:6]"
   ]
  },
  {
   "cell_type": "code",
   "execution_count": 25,
   "metadata": {
    "colab": {
     "base_uri": "https://localhost:8080/",
     "height": 350
    },
    "executionInfo": {
     "elapsed": 483,
     "status": "ok",
     "timestamp": 1665588810809,
     "user": {
      "displayName": "F K",
      "userId": "13365684069309883962"
     },
     "user_tz": -240
    },
    "id": "1wbLWg6G0jKn",
    "outputId": "1a9eb58b-9501-44bd-9f76-b714c7dd4f41"
   },
   "outputs": [
    {
     "data": {
      "image/png": "[encoded data removed]",
      "text/plain": [
       "<Figure size 1080x360 with 1 Axes>"
      ]
     },
     "metadata": {
      "needs_background": "light"
     },
     "output_type": "display_data"
    }
   ],
   "source": [
    "rankings = []\n",
    "for i in range(10):\n",
    "    X, y = adder(seed=i)\n",
    "    lsvc = LinearSVC(C=0.2, penalty=\"l1\", dual=False).fit(X, y)\n",
    "    model = SelectFromModel(lsvc, prefit=True)\n",
    "    rankings.append(model.get_support())\n",
    "\n",
    "plt.figure(figsize=(15,5))\n",
    "#plt.bar(range(1, X.shape[1]+1),sum(rankings), color=\"royalblue\")\n",
    "plt.bar(range(1, X.shape[1]+1),sum(rankings), \n",
    "        color=6*[\"royalblue\"]+2*[\"forestgreen\"]+92*[\"slategray\"])\n",
    "plt.xticks([1, 10, 20, 30, 40, 50, 60, 70, 80, 90, 100])\n",
    "plt.xlabel('features')\n",
    "plt.ylabel('support')\n",
    "plt.title('L1')\n",
    "plt.show()"
   ]
  },
  {
   "cell_type": "code",
   "execution_count": 26,
   "metadata": {
    "colab": {
     "base_uri": "https://localhost:8080/",
     "height": 350
    },
    "executionInfo": {
     "elapsed": 1844,
     "status": "ok",
     "timestamp": 1665588736413,
     "user": {
      "displayName": "F K",
      "userId": "13365684069309883962"
     },
     "user_tz": -240
    },
    "id": "O7eSfl8l0qh8",
    "outputId": "80fa0305-1030-429c-85c1-c1a0cb208b43"
   },
   "outputs": [
    {
     "data": {
      "image/png": "[encoded data removed]",
      "text/plain": [
       "<Figure size 1080x360 with 1 Axes>"
      ]
     },
     "metadata": {
      "needs_background": "light"
     },
     "output_type": "display_data"
    }
   ],
   "source": [
    "best_scores = []\n",
    "for i in range(10):\n",
    "    X, y = adder(seed=i)\n",
    "    clf = ExtraTreesClassifier(n_estimators=50)\n",
    "    clf = clf.fit(X, y)\n",
    "    best_scores.append(clf.feature_importances_)\n",
    "\n",
    "plt.figure(figsize=(15,5))\n",
    "mean_scores = np.array(best_scores).mean(axis=0)\n",
    "sd_scores = np.array(best_scores).std(axis=0)\n",
    "plt.bar(range(1, X.shape[1]+1),mean_scores, yerr=sd_scores, ecolor='orangered', \n",
    "        color=6*[\"royalblue\"]+2*[\"forestgreen\"]+92*[\"slategray\"])\n",
    "\n",
    "plt.xticks([1, 10, 20, 30, 40, 50, 60, 70, 80, 90, 100])\n",
    "plt.xlabel('features')\n",
    "plt.ylabel('importance')\n",
    "plt.title('Tree')\n",
    "plt.show()"
   ]
  },
  {
   "cell_type": "markdown",
   "metadata": {},
   "source": [
    "## LED"
   ]
  },
  {
   "cell_type": "code",
   "execution_count": 54,
   "metadata": {},
   "outputs": [],
   "source": [
    "import pandas as pd\n",
    "df = pd.read_csv('16_segment_truth_table2.csv')\n",
    "df = df.fillna(0)\n",
    "df.index = df.iloc[:,0].values\n",
    "df.drop(columns='char', inplace=True)\n",
    "df = df.astype(int)"
   ]
  },
  {
   "cell_type": "code",
   "execution_count": 55,
   "metadata": {
    "id": "HGBXrfbH0yXz"
   },
   "outputs": [
    {
     "data": {
      "image/png": "[encoded data removed]",
      "text/plain": [
       "<Figure size 1080x360 with 1 Axes>"
      ]
     },
     "metadata": {
      "needs_background": "light"
     },
     "output_type": "display_data"
    }
   ],
   "source": [
    "best_scores = []\n",
    "for i in range(10):\n",
    "    X, y = led(df, n_obs=180,n_I=66, seed=i)\n",
    "    sel_kbest = SelectKBest(chi2, k=1)\n",
    "    sel_kbest = sel_kbest.fit(X, y)\n",
    "    best_scores.append(sel_kbest.scores_)\n",
    "\n",
    "\n",
    "\n",
    "plt.figure(figsize=(15,5))\n",
    "mean_scores = np.array(best_scores).mean(axis=0)\n",
    "sd_scores = np.array(best_scores).std(axis=0)\n",
    "plt.bar(range(1, X.shape[1]+1),mean_scores, yerr=sd_scores, ecolor='orangered', \n",
    "        color=32*[\"royalblue\"]+2*[\"forestgreen\"]+66*[\"slategray\"])\n",
    "#plt.yticks([0, 5, 10, 15])\n",
    "plt.xticks([1, 10, 20, 30, 40, 50, 60, 70, 80, 90, 100])\n",
    "plt.xlabel('features')\n",
    "plt.ylabel(r'$\\chi^2$')\n",
    "plt.title('Univariate')\n",
    "plt.show()"
   ]
  },
  {
   "cell_type": "code",
   "execution_count": 38,
   "metadata": {},
   "outputs": [
    {
     "data": {
      "text/plain": [
       "array([[26, 24, 12, 15, 13,  5, 10,  7, 14, 19, 69, 27, 32, 16, 20, 99,\n",
       "        22, 25, 18,  6,  8,  3,  4, 17, 11, 21, 77, 31, 40,  9, 23, 96,\n",
       "         1,  2],\n",
       "       [31, 27, 16,  6, 10, 14,  4, 12, 15, 21, 87, 34,  2, 20, 26, 22,\n",
       "        24, 29, 11, 13,  3,  7,  9, 17, 18, 23, 83, 35,  8, 25, 19, 28,\n",
       "         1,  5],\n",
       "       [29, 27, 19, 13,  6, 11,  9, 15, 14, 22, 84, 28, 10, 20, 18, 31,\n",
       "        24, 21, 16,  7,  2,  8,  3, 12, 17, 25, 72, 30,  5, 26, 23, 33,\n",
       "         1,  4],\n",
       "       [29, 24, 18,  6,  7, 15, 10,  8, 17, 16, 78, 30,  9, 22, 19, 27,\n",
       "        31, 26, 12, 14,  2, 11,  4, 13, 20, 21, 83, 32,  3, 28, 25, 23,\n",
       "         1,  5],\n",
       "       [27, 26, 17, 15, 10,  8,  9, 14, 12, 22, 56, 30, 29, 13, 19, 98,\n",
       "        21, 23, 11,  6,  5,  2,  4, 18, 16, 20, 64, 35, 37,  7, 24, 99,\n",
       "         3,  1],\n",
       "       [27, 26, 19,  7,  2, 11,  8, 17, 18, 22, 66, 28,  5, 21, 20, 36,\n",
       "        29, 23, 15, 10,  9,  6,  3, 14, 13, 24, 74, 32, 12, 16, 25, 40,\n",
       "         4,  1],\n",
       "       [30, 29, 17, 13,  7, 14, 10, 16, 19, 15, 76, 31,  8, 23, 24, 26,\n",
       "        25, 27, 12,  6,  2, 11,  3,  9, 20, 22, 82, 34,  4, 18, 28, 21,\n",
       "         1,  5],\n",
       "       [27, 25, 15, 17, 11,  8,  9, 14, 16, 20, 60, 30, 28, 13, 18, 97,\n",
       "        21, 24,  6, 12,  5,  3,  4, 19, 10, 22, 67, 35, 31,  7, 23, 99,\n",
       "         1,  2],\n",
       "       [27, 21, 17, 20,  2, 12,  9, 15, 18, 22, 70, 29,  5, 16, 24, 40,\n",
       "        28, 25, 13, 10,  6,  8,  3,  7, 14, 26, 77, 35, 11, 23, 19, 45,\n",
       "         1,  4],\n",
       "       [29, 27, 22, 12,  8, 11,  2, 15, 17, 21, 78, 28,  5, 26, 23, 31,\n",
       "        19, 25, 18, 14,  3,  6,  7,  9, 13, 24, 74, 30, 10, 20, 16, 35,\n",
       "         4,  1]])"
      ]
     },
     "execution_count": 38,
     "metadata": {},
     "output_type": "execute_result"
    }
   ],
   "source": [
    "rankings = []\n",
    "for i in range(10):\n",
    "    X, y = led(df, n_obs=180,n_I=66, seed=i)\n",
    "    estimator = SVC(kernel=\"linear\")\n",
    "    selector = RFE(estimator, n_features_to_select=1, step=1)\n",
    "    selector = selector.fit(X, y)\n",
    "    rankings.append(selector.ranking_)\n",
    "    \n",
    "np.array(rankings)[:,:34]"
   ]
  },
  {
   "cell_type": "code",
   "execution_count": 88,
   "metadata": {
    "collapsed": true
   },
   "outputs": [
    {
     "name": "stderr",
     "output_type": "stream",
     "text": [
      "/Library/Frameworks/Python.framework/Versions/3.10/lib/python3.10/site-packages/sklearn/svm/_base.py:1225: ConvergenceWarning: Liblinear failed to converge, increase the number of iterations.\n",
      "  warnings.warn(\n",
      "/Library/Frameworks/Python.framework/Versions/3.10/lib/python3.10/site-packages/sklearn/svm/_base.py:1225: ConvergenceWarning: Liblinear failed to converge, increase the number of iterations.\n",
      "  warnings.warn(\n",
      "/Library/Frameworks/Python.framework/Versions/3.10/lib/python3.10/site-packages/sklearn/svm/_base.py:1225: ConvergenceWarning: Liblinear failed to converge, increase the number of iterations.\n",
      "  warnings.warn(\n",
      "/Library/Frameworks/Python.framework/Versions/3.10/lib/python3.10/site-packages/sklearn/svm/_base.py:1225: ConvergenceWarning: Liblinear failed to converge, increase the number of iterations.\n",
      "  warnings.warn(\n",
      "/Library/Frameworks/Python.framework/Versions/3.10/lib/python3.10/site-packages/sklearn/svm/_base.py:1225: ConvergenceWarning: Liblinear failed to converge, increase the number of iterations.\n",
      "  warnings.warn(\n",
      "/Library/Frameworks/Python.framework/Versions/3.10/lib/python3.10/site-packages/sklearn/svm/_base.py:1225: ConvergenceWarning: Liblinear failed to converge, increase the number of iterations.\n",
      "  warnings.warn(\n",
      "/Library/Frameworks/Python.framework/Versions/3.10/lib/python3.10/site-packages/sklearn/svm/_base.py:1225: ConvergenceWarning: Liblinear failed to converge, increase the number of iterations.\n",
      "  warnings.warn(\n",
      "/Library/Frameworks/Python.framework/Versions/3.10/lib/python3.10/site-packages/sklearn/svm/_base.py:1225: ConvergenceWarning: Liblinear failed to converge, increase the number of iterations.\n",
      "  warnings.warn(\n",
      "/Library/Frameworks/Python.framework/Versions/3.10/lib/python3.10/site-packages/sklearn/svm/_base.py:1225: ConvergenceWarning: Liblinear failed to converge, increase the number of iterations.\n",
      "  warnings.warn(\n",
      "/Library/Frameworks/Python.framework/Versions/3.10/lib/python3.10/site-packages/sklearn/svm/_base.py:1225: ConvergenceWarning: Liblinear failed to converge, increase the number of iterations.\n",
      "  warnings.warn(\n"
     ]
    },
    {
     "data": {
      "image/png": "[encoded data removed]",
      "text/plain": [
       "<Figure size 1080x360 with 1 Axes>"
      ]
     },
     "metadata": {
      "needs_background": "light"
     },
     "output_type": "display_data"
    }
   ],
   "source": [
    "rankings = []\n",
    "for i in range(10):\n",
    "    X, y = led(df, n_obs=180,n_I=66, seed=i)\n",
    "    lsvc = LinearSVC(C=0.2, penalty=\"l1\", dual=False).fit(X, y)\n",
    "    model = SelectFromModel(lsvc, prefit=True)\n",
    "    rankings.append(model.get_support())\n",
    "\n",
    "plt.figure(figsize=(15,5))\n",
    "plt.bar(range(1, X.shape[1]+1),sum(rankings), \n",
    "        color=32*[\"royalblue\"]+2*[\"forestgreen\"]+66*[\"slategray\"])\n",
    "plt.xticks([1, 10, 20, 30, 40, 50, 60, 70, 80, 90, 100])\n",
    "plt.xlabel('features')\n",
    "plt.ylabel('support')\n",
    "plt.title('L1')\n",
    "plt.show()"
   ]
  },
  {
   "cell_type": "code",
   "execution_count": 37,
   "metadata": {},
   "outputs": [
    {
     "data": {
      "image/png": "[encoded data removed]",
      "text/plain": [
       "<Figure size 1080x360 with 1 Axes>"
      ]
     },
     "metadata": {
      "needs_background": "light"
     },
     "output_type": "display_data"
    }
   ],
   "source": [
    "best_scores = []\n",
    "for i in range(10):\n",
    "    X, y = led(df, n_obs=180,n_I=66, seed=i)\n",
    "    clf = ExtraTreesClassifier(n_estimators=50)\n",
    "    clf = clf.fit(X, y)\n",
    "    best_scores.append(clf.feature_importances_)\n",
    "\n",
    "plt.figure(figsize=(15,5))\n",
    "mean_scores = np.array(best_scores).mean(axis=0)\n",
    "sd_scores = np.array(best_scores).std(axis=0)\n",
    "plt.bar(range(1, X.shape[1]+1),mean_scores, yerr=sd_scores, ecolor='orangered', \n",
    "        color=32*[\"royalblue\"]+2*[\"forestgreen\"]+66*[\"slategray\"])\n",
    "\n",
    "plt.xticks([1, 10, 20, 30, 40, 50, 60, 70, 80, 90, 100])\n",
    "plt.xlabel('features')\n",
    "plt.ylabel('importance')\n",
    "plt.title('Tree')\n",
    "plt.show()"
   ]
  },
  {
   "cell_type": "markdown",
   "metadata": {},
   "source": [
    "## PRC"
   ]
  },
  {
   "cell_type": "code",
   "execution_count": 79,
   "metadata": {},
   "outputs": [
    {
     "data": {
      "image/png": "[encoded data removed]",
      "text/plain": [
       "<Figure size 1080x360 with 1 Axes>"
      ]
     },
     "metadata": {
      "needs_background": "light"
     },
     "output_type": "display_data"
    }
   ],
   "source": [
    "best_scores = []\n",
    "for i in range(10):\n",
    "    X, y = prc(n_obs=50,n_I=90, seed=i)\n",
    "    sel_kbest = SelectKBest(f_regression, k=1)\n",
    "    sel_kbest = sel_kbest.fit(X, y)\n",
    "    best_scores.append(sel_kbest.scores_)\n",
    "\n",
    "\n",
    "\n",
    "plt.figure(figsize=(15,5))\n",
    "mean_scores = np.array(best_scores).mean(axis=0)\n",
    "sd_scores = np.array(best_scores).std(axis=0)\n",
    "plt.bar(range(1, X.shape[1]+1),mean_scores, yerr=sd_scores, ecolor='orangered', \n",
    "        color=10*[\"royalblue\"]+90*[\"slategray\"])\n",
    "#plt.yticks([0, 5, 10, 15])\n",
    "plt.xticks([1, 10, 20, 30, 40, 50, 60, 70, 80, 90, 100])\n",
    "plt.xlabel('features')\n",
    "plt.ylabel(r'$\\chi^2$')\n",
    "plt.title('Univariate')\n",
    "plt.show()"
   ]
  },
  {
   "cell_type": "code",
   "execution_count": 80,
   "metadata": {},
   "outputs": [
    {
     "data": {
      "text/plain": [
       "array([[100,  99,  98,  97,  96,  95,  94,  93,  92,  91],\n",
       "       [100,  99,  98,  97,  96,  95,  94,  93,  92,  91],\n",
       "       [100,  99,  98,  97,  96,  95,  94,  93,  92,  91],\n",
       "       [100,  99,  98,  97,  96,  95,  94,  93,  92,  91],\n",
       "       [100,  99,  98,  97,  96,  95,  94,  93,  92,  91],\n",
       "       [100,  99,  98,  97,  96,  95,  94,  93,  92,  91],\n",
       "       [100,  99,  98,  97,  96,  95,  94,  93,  92,  91],\n",
       "       [100,  99,  98,  97,  96,  95,  94,  93,  92,  91],\n",
       "       [100,  99,  98,  97,  96,  95,  94,  93,  92,  91],\n",
       "       [100,  99,  98,  97,  96,  95,  94,  93,  92,  91]])"
      ]
     },
     "execution_count": 80,
     "metadata": {},
     "output_type": "execute_result"
    }
   ],
   "source": [
    "rankings = []\n",
    "for i in range(10):\n",
    "    X, y = prc(n_obs=50,n_I=90, seed=i)\n",
    "    estimator = SVR(kernel=\"linear\")\n",
    "    selector = RFE(estimator, n_features_to_select=1, step=1)\n",
    "    selector = selector.fit(X, y)\n",
    "    rankings.append(selector.ranking_)\n",
    "    \n",
    "np.array(rankings)[:,:10]"
   ]
  },
  {
   "cell_type": "code",
   "execution_count": 86,
   "metadata": {},
   "outputs": [
    {
     "data": {
      "image/png": "[encoded data removed]",
      "text/plain": [
       "<Figure size 1080x360 with 1 Axes>"
      ]
     },
     "metadata": {
      "needs_background": "light"
     },
     "output_type": "display_data"
    }
   ],
   "source": [
    "rankings = []\n",
    "for i in range(10):\n",
    "    X, y = prc(n_obs=50,n_I=90, seed=i)\n",
    "    lsvc = Lasso(alpha=0.0005).fit(X, y)\n",
    "    model = SelectFromModel(lsvc, prefit=True)\n",
    "    rankings.append(model.get_support())\n",
    "\n",
    "plt.figure(figsize=(15,5))\n",
    "plt.bar(range(1, X.shape[1]+1),sum(rankings), \n",
    "        color=10*[\"royalblue\"]+2*[\"forestgreen\"]+88*[\"slategray\"])\n",
    "plt.xticks([1, 10, 20, 30, 40, 50, 60, 70, 80, 90, 100])\n",
    "plt.xlabel('features')\n",
    "plt.ylabel('support')\n",
    "plt.title('L1')\n",
    "plt.show()"
   ]
  },
  {
   "cell_type": "code",
   "execution_count": 87,
   "metadata": {},
   "outputs": [
    {
     "data": {
      "image/png": "[encoded data removed]",
      "text/plain": [
       "<Figure size 1080x360 with 1 Axes>"
      ]
     },
     "metadata": {
      "needs_background": "light"
     },
     "output_type": "display_data"
    }
   ],
   "source": [
    "best_scores = []\n",
    "for i in range(10):\n",
    "    X, y = prc(n_obs=50,n_I=90, seed=i)\n",
    "    clf = ExtraTreesRegressor(n_estimators=50)\n",
    "    clf = clf.fit(X, y)\n",
    "    best_scores.append(clf.feature_importances_)\n",
    "\n",
    "plt.figure(figsize=(15,5))\n",
    "mean_scores = np.array(best_scores).mean(axis=0)\n",
    "sd_scores = np.array(best_scores).std(axis=0)\n",
    "plt.bar(range(1, X.shape[1]+1),mean_scores, yerr=sd_scores, ecolor='orangered', \n",
    "        color=10*[\"royalblue\"]+90*[\"slategray\"])\n",
    "\n",
    "plt.xticks([1, 10, 20, 30, 40, 50, 60, 70, 80, 90, 100])\n",
    "plt.xlabel('features')\n",
    "plt.ylabel('importance')\n",
    "plt.title('Tree')\n",
    "plt.show()"
   ]
  },
  {
   "cell_type": "code",
   "execution_count": null,
   "metadata": {},
   "outputs": [],
   "source": []
  }
 ],
 "metadata": {
  "colab": {
   "collapsed_sections": [
    "-2f7NP7PgBu0",
    "GdKx2u_DgBu3",
    "8nz8Y3afgBu4",
    "TwY8OGEEuw7i"
   ],
   "provenance": []
  },
  "kernelspec": {
   "display_name": "Python 3 (ipykernel)",
   "language": "python",
   "name": "python3"
  },
  "language_info": {
   "codemirror_mode": {
    "name": "ipython",
    "version": 3
   },
   "file_extension": ".py",
   "mimetype": "text/x-python",
   "name": "python",
   "nbconvert_exporter": "python",
   "pygments_lexer": "ipython3",
   "version": "3.10.6"
  }
 },
 "nbformat": 4,
 "nbformat_minor": 1
}
